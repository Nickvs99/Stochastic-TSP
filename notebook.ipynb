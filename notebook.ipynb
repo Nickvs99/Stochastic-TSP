{
 "cells": [
  {
   "cell_type": "markdown",
   "metadata": {},
   "source": [
    "# Travelling salesman problem\n",
    "\n",
    "Peter Voerman, 11749547\n",
    "\n",
    "Nick van Santen, 11857846"
   ]
  },
  {
   "cell_type": "code",
   "execution_count": 1,
   "metadata": {},
   "outputs": [],
   "source": [
    "import matplotlib.pyplot as plt\n",
    "import numpy as np\n",
    "import os\n",
    "import pickle\n",
    "import random"
   ]
  },
  {
   "cell_type": "code",
   "execution_count": 33,
   "metadata": {},
   "outputs": [],
   "source": [
    "# Run cell to increase font sizes. Usefull when saving plots\n",
    "SMALL_SIZE = 16\n",
    "MEDIUM_SIZE = 20\n",
    "BIGGER_SIZE = 24\n",
    "\n",
    "plt.rc('font', size=SMALL_SIZE)          # controls default text sizes\n",
    "plt.rc('axes', titlesize=SMALL_SIZE)     # fontsize of the axes title\n",
    "plt.rc('axes', labelsize=MEDIUM_SIZE)    # fontsize of the x and y labels\n",
    "plt.rc('xtick', labelsize=SMALL_SIZE)    # fontsize of the tick labels\n",
    "plt.rc('ytick', labelsize=SMALL_SIZE)    # fontsize of the tick labels\n",
    "plt.rc('legend', fontsize=SMALL_SIZE)    # legend fontsize\n",
    "plt.rc('figure', titlesize=BIGGER_SIZE)  # fontsize of the figure title\n",
    "\n",
    "plt.rcParams['figure.figsize'] = [8.0, 6.0]\n",
    "plt.rcParams['figure.dpi'] = 100"
   ]
  },
  {
   "cell_type": "markdown",
   "metadata": {},
   "source": [
    "## functions"
   ]
  },
  {
   "cell_type": "markdown",
   "metadata": {},
   "source": [
    "### Read files"
   ]
  },
  {
   "cell_type": "code",
   "execution_count": 2,
   "metadata": {},
   "outputs": [],
   "source": [
    "def read_file(filename):\n",
    "    x_list = []\n",
    "    y_list = []\n",
    "\n",
    "    with open(filename, \"r\") as f:\n",
    "        print(filename)\n",
    "        for line in f.readlines()[6:-1]:\n",
    "            split_line = line.split(' ')\n",
    "            split_line = [x for x in split_line if x]\n",
    "            x_list.append(float(split_line[-2]))\n",
    "            y_list.append(float(split_line[-1]))\n",
    "\n",
    "    return x_list, y_list\n",
    "\n",
    "def read_solution(filename):\n",
    "    node_list = []\n",
    "\n",
    "    with open(filename, \"r\") as f:\n",
    "        print(filename[-17:])\n",
    "        if filename[-17:] == 'a280.opt.tour.txt':\n",
    "            for line in f.readlines()[4:-1]:\n",
    "                node_list.append(int(line))\n",
    "        else:\n",
    "            for line in f.readlines()[5:-2]:\n",
    "                node_list.append(int(line))\n",
    "\n",
    "    node_list.append(node_list[0])\n",
    "\n",
    "    return node_list"
   ]
  },
  {
   "cell_type": "markdown",
   "metadata": {},
   "source": [
    "### Distance"
   ]
  },
  {
   "cell_type": "code",
   "execution_count": 3,
   "metadata": {},
   "outputs": [],
   "source": [
    "def create_distance_table(x_values, y_values):\n",
    "    \"\"\"\n",
    "    Creates a dictionary with the distance city i and city j.\n",
    "\n",
    "    Returns:\n",
    "        distance_table: dictionary<int, dictionary<int, float>>\n",
    "        int's refer to the cities and float refers to the distance between the cities\n",
    "    \"\"\"\n",
    "\n",
    "    distance_table = {}\n",
    "    if len(x_values) != len(y_values):\n",
    "        raise Exception(f\"Dimensions of x_values and y_values should be the same. {len(x_values)} vs {len(y_values)}\")\n",
    "\n",
    "    for i in range(len(x_values)):\n",
    "        for j in range(len(y_values)):\n",
    "\n",
    "            temp_i = i + 1\n",
    "            temp_j = j + 1\n",
    "\n",
    "            if temp_i not in distance_table:\n",
    "                distance_table[temp_i] = {}\n",
    "\n",
    "            x1, x2 = x_values[i], x_values[j]\n",
    "            y1, y2 = y_values[i], y_values[j]\n",
    "\n",
    "            distance_table[temp_i][temp_j] = calc_distance(x1, y1, x2, y2)\n",
    "\n",
    "    return distance_table\n",
    "    \n",
    "def calc_distance(x1, y1, x2, y2):\n",
    "\n",
    "    return ((x2 - x1) ** 2 + (y2 - y1) ** 2) ** 0.5\n",
    "\n",
    "def calc_path_length(city_order, dist_table):\n",
    "    \n",
    "    path_length = 0\n",
    "    for i in range(len(city_order) - 1):\n",
    "        city1 = city_order[i]\n",
    "        city2 = city_order[i + 1]\n",
    "\n",
    "        path_length += dist_table[city1][city2]\n",
    "    \n",
    "    return path_length"
   ]
  },
  {
   "cell_type": "markdown",
   "metadata": {},
   "source": [
    "### Plotting"
   ]
  },
  {
   "cell_type": "code",
   "execution_count": 25,
   "metadata": {},
   "outputs": [],
   "source": [
    "def plot(x_points, y_points, route=None):\n",
    "    x = np.zeros(len(route))\n",
    "    y = np.zeros(len(route))\n",
    "    for i in range(len(route)):\n",
    "        x[i] = x_points[route[i]-1]\n",
    "        y[i] = y_points[route[i]-1]\n",
    "    plt.scatter(x_points, y_points)\n",
    "    plt.plot(x, y)\n",
    "    plt.show()\n",
    "\n",
    "def plot_scores(scores):\n",
    "\n",
    "    xs = np.arange(0, len(scores))\n",
    "\n",
    "    plt.plot(xs, scores)\n",
    "\n",
    "    plt.title(\"Distance evolution\")\n",
    "    plt.xlabel(\"Iteration\")\n",
    "    plt.ylabel(\"Distance\")\n",
    "    plt.show()\n",
    "\n",
    "def plot_data(data):\n",
    "\n",
    "    for a in data:\n",
    "        \n",
    "        fig, ax = plt.subplots()\n",
    "\n",
    "        for b in data[a]:\n",
    "\n",
    "            score_results = np.array(data[a][b])\n",
    "            n_iterations = len(score_results[0])\n",
    "\n",
    "            ys = np.mean(score_results, axis=0)\n",
    "            ci = np.std(score_results, axis=0)\n",
    "            xs = range(0, n_iterations)\n",
    "            \n",
    "            ax.plot(xs,ys, label=f\"b={b}\")\n",
    "            ax.fill_between(xs, ys - ci, ys + ci, alpha=.1)\n",
    "\n",
    "        ax.set_xlabel(\"Iterations\")\n",
    "        ax.set_ylabel(\"Scores\")\n",
    "        plt.title(f\"a={a}\")\n",
    "        plt.legend()\n",
    "        plt.show()\n",
    "\n",
    "    for b in data[list(data.keys())[0]]:\n",
    "\n",
    "        fig, ax = plt.subplots()\n",
    "\n",
    "        for a in data:\n",
    "\n",
    "            score_results = np.array(data[a][b])\n",
    "            n_iterations = len(score_results[0])\n",
    "\n",
    "            ys = np.mean(score_results, axis=0)\n",
    "            ci = np.std(score_results, axis=0)\n",
    "            xs = range(0, n_iterations)\n",
    "            \n",
    "            ax.plot(xs,ys, label=f\"a={a}\")\n",
    "            ax.fill_between(xs, ys - ci, ys + ci, alpha=.1)\n",
    "        \n",
    "        ax.set_xlabel(\"Iterations\")\n",
    "        ax.set_ylabel(\"Scores\")\n",
    "        plt.title(f\"b={b}\")\n",
    "        plt.legend()\n",
    "        plt.show()\n",
    "\n",
    "def plot_best_difference(data, optimal_score):\n",
    "\n",
    "    fig, ax = plt.subplots()\n",
    "    for a in data:\n",
    "\n",
    "        means = []\n",
    "        yerrors = []\n",
    "\n",
    "        for b in data[a]:\n",
    "\n",
    "            score_results = data[a][b]\n",
    "            relative_errors = []\n",
    "            for scores in score_results:\n",
    "                min_score = min(scores)\n",
    "\n",
    "                relative_errors.append((min_score - optimal_score) / optimal_score * 100)\n",
    "\n",
    "            means.append(np.mean(relative_errors))\n",
    "            yerrors.append(np.std(relative_errors))\n",
    "\n",
    "        plt.errorbar(data[a].keys(), means, yerr=yerrors, label=f\"a={a}\", capsize=5)\n",
    "\n",
    "    ax.set_title(\"Relative error compared to optimal solution\")\n",
    "    ax.set_xlabel(\"b\")\n",
    "    ax.set_ylabel(\"Relative error [%]\")\n",
    "\n",
    "    ax.set_yscale(\"log\")\n",
    "    ax.set_xscale(\"log\")\n",
    "\n",
    "    plt.legend()\n",
    "    plt.show()"
   ]
  },
  {
   "cell_type": "markdown",
   "metadata": {},
   "source": [
    "### Simulated annealing"
   ]
  },
  {
   "cell_type": "code",
   "execution_count": 30,
   "metadata": {},
   "outputs": [],
   "source": [
    "def run(a, b, dist_table, iterations=10000, chain_length=1):\n",
    "    temp_list = []\n",
    "    n_cities = len(dist_table)\n",
    "    current_order = [i for i in range(1, n_cities + 1)]\n",
    "    current_order.append(1)\n",
    "    current_score = calc_path_length(current_order, dist_table)\n",
    "    \n",
    "    orders = [current_order]\n",
    "    scores = [current_score]\n",
    "    last_value = np.inf\n",
    "\n",
    "    for i in range(iterations):\n",
    "\n",
    "\n",
    "        edge1 = random.randint(0, n_cities - 1)\n",
    "        edge2 = random.randint(0, n_cities - 1)\n",
    "\n",
    "        while abs(edge1 - edge2) < 2:\n",
    "            edge1 = random.randint(0, n_cities - 1)\n",
    "            edge2 = random.randint(0, n_cities - 1)\n",
    "        \n",
    "        temp_order = two_opt(current_order, edge1, edge2)\n",
    "        temp_score = calc_path_length(temp_order, dist_table)\n",
    "\n",
    "        if i % chain_length == 0:\n",
    "            temperature = calc_temp(a, b, i/chain_length)\n",
    "        temp_list.append(temperature)\n",
    "        if temp_score < current_score or is_excepted(temp_score, last_value, temperature):\n",
    "            current_score = temp_score\n",
    "            current_order = temp_order\n",
    "\n",
    "        scores.append(current_score)\n",
    "        orders.append(current_order)\n",
    "\n",
    "        last_value = current_score\n",
    "\n",
    "    return scores, orders\n",
    "       \n",
    "def is_excepted(value, last_value, temperature):\n",
    "    return random.random() < acceptance_change(value, last_value, temperature)     \n",
    "\n",
    "def calc_temp(a, b, n):\n",
    "    return a / np.log(n + b + 1)\n",
    "\n",
    "def acceptance_change(value, last_value, temperature):\n",
    "    return np.exp(-(value - last_value) / temperature)\n",
    "\n",
    "def two_opt(order, city_1, city_2):\n",
    "    if city_2 < city_1:\n",
    "        city_1, city_2 = city_2, city_1\n",
    "    new_order = np.zeros(len(order))\n",
    "    new_order[:city_1] = order[:city_1]\n",
    "    new_order[city_1:city_2] = list(reversed(order[city_1:city_2]))\n",
    "    new_order[city_2:] = order[city_2:]\n",
    "    new_order = [int(i) for i in new_order]\n",
    "    if city_1 == 0:\n",
    "        \n",
    "        new_order[-1] = new_order[0]\n",
    "    if city_2 == len(new_order):\n",
    "        new_order[0] = new_order[-1]\n",
    "    return new_order"
   ]
  },
  {
   "cell_type": "markdown",
   "metadata": {},
   "source": [
    "### Data"
   ]
  },
  {
   "cell_type": "code",
   "execution_count": 28,
   "metadata": {},
   "outputs": [],
   "source": [
    "def generate_data(a_values, b_values, nruns, dist_table, iterations=10000, chain_length=1):\n",
    "\n",
    "    data = {}\n",
    "    best_score = np.inf\n",
    "    best_order = None\n",
    "    \n",
    "    for a in a_values:\n",
    "        for b in b_values:\n",
    "            print(f\"\\rCalculating a={a}, b={b}...\", end=\"\", flush=True)\n",
    "            score_results = []\n",
    "\n",
    "            for _ in range(nruns):\n",
    "\n",
    "                scores, orders = run(a, b, dist_table, iterations=iterations, chain_length=chain_length)\n",
    "                score_results.append(scores)\n",
    "\n",
    "                min_score = min(scores)\n",
    "                if min_score < best_score:\n",
    "                    index = scores.index(min_score)\n",
    "                    best_score = min_score\n",
    "                    best_order = orders[index]\n",
    "\n",
    "            if a not in data:\n",
    "                data[a] = {}\n",
    "\n",
    "            data[a][b] = score_results\n",
    "    print()\n",
    "    return data, best_score, best_order\n",
    "\n",
    "def save_data(filename, data, best_score, best_order):\n",
    "    with open(filename, 'wb') as f:\n",
    "        pickle.dump([data, best_score, best_order], f)\n",
    "\n",
    "def load_data(filename):\n",
    "    with open(filename, 'rb') as f:\n",
    "        return pickle.load(f)"
   ]
  },
  {
   "cell_type": "markdown",
   "metadata": {},
   "source": [
    "## Optimal solutions"
   ]
  },
  {
   "cell_type": "code",
   "execution_count": 36,
   "metadata": {},
   "outputs": [
    {
     "name": "stdout",
     "output_type": "stream",
     "text": [
      "TSP-Configurations/a280.tsp.txt\n",
      "a280.opt.tour.txt\n",
      "2586.7696475631606\n"
     ]
    },
    {
     "data": {
      "image/png": "[encoded data removed]",
      "text/plain": [
       "<Figure size 800x600 with 1 Axes>"
      ]
     },
     "metadata": {
      "needs_background": "light"
     },
     "output_type": "display_data"
    }
   ],
   "source": [
    "tsp_configuration = \"a280\"\n",
    "\n",
    "x_values, y_values = read_file(f\"TSP-Configurations/{tsp_configuration}.tsp.txt\")\n",
    "optimal_order = read_solution(f\"TSP-Configurations/{tsp_configuration}.opt.tour.txt\")\n",
    "\n",
    "dist_table = create_distance_table(x_values, y_values)\n",
    "\n",
    "optimal_score = calc_path_length(optimal_order, dist_table)\n",
    "print(optimal_score)\n",
    "plot(x_values, y_values, optimal_order)\n"
   ]
  },
  {
   "cell_type": "markdown",
   "metadata": {},
   "source": [
    "## Calculating solutions"
   ]
  },
  {
   "cell_type": "code",
   "execution_count": 37,
   "metadata": {},
   "outputs": [
    {
     "name": "stdout",
     "output_type": "stream",
     "text": [
      "TSP-Configurations/a280.tsp.txt\n",
      "a280.opt.tour.txt\n",
      "Loading cached data from data/a280.pickle\n",
      "2586.7696475631606 2698.0802267069707\n"
     ]
    }
   ],
   "source": [
    "tsp_configuration = \"a280\"\n",
    "cache_filename = f\"data/{tsp_configuration}.pickle\"\n",
    "x_values, y_values = read_file(f\"TSP-Configurations/{tsp_configuration}.tsp.txt\")\n",
    "optimal_order = read_solution(f\"TSP-Configurations/{tsp_configuration}.opt.tour.txt\")\n",
    "\n",
    "dist_table = create_distance_table(x_values, y_values)\n",
    "\n",
    "if os.path.isfile(cache_filename):\n",
    "    print(f\"Loading cached data from {cache_filename}\")\n",
    "    data, best_score, best_order = load_data(cache_filename)\n",
    "else:\n",
    "    print(f\"Calculating cached data for {cache_filename}\")\n",
    "\n",
    "    a_values = [0.01, 0.1, 1, 10]\n",
    "    b_values = [10000, 100000, 1000000]\n",
    "    data, best_score, best_order = generate_data(a_values, b_values, 10, dist_table, chain_length=1, iterations=1000000)\n",
    "\n",
    "    print(f\"Saving data to {cache_filename}\")\n",
    "    save_data(cache_filename, data, best_score, best_order)\n",
    "\n",
    "optimal_score = calc_path_length(optimal_order, dist_table)\n",
    "print(optimal_score, best_score)\n",
    "\n",
    "plot_best_difference(data, optimal_score)\n",
    "plot_data(data)\n",
    "plot(x_values, y_values, best_order)"
   ]
  },
  {
   "cell_type": "code",
   "execution_count": null,
   "metadata": {},
   "outputs": [],
   "source": []
  }
 ],
 "metadata": {
  "interpreter": {
   "hash": "a297ac84006f0f11ed5a87af9e7371e781f0b777a7d5c6194dad8a3a5f39a664"
  },
  "kernelspec": {
   "display_name": "Python 3.9.4 64-bit",
   "language": "python",
   "name": "python3"
  },
  "language_info": {
   "codemirror_mode": {
    "name": "ipython",
    "version": 3
   },
   "file_extension": ".py",
   "mimetype": "text/x-python",
   "name": "python",
   "nbconvert_exporter": "python",
   "pygments_lexer": "ipython3",
   "version": "3.9.4"
  },
  "orig_nbformat": 4
 },
 "nbformat": 4,
 "nbformat_minor": 2
}
